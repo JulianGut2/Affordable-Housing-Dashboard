{
 "cells": [
  {
   "cell_type": "code",
   "execution_count": 9,
   "id": "174fc837",
   "metadata": {},
   "outputs": [
    {
     "data": {
      "text/html": [
       "<div>\n",
       "<style scoped>\n",
       "    .dataframe tbody tr th:only-of-type {\n",
       "        vertical-align: middle;\n",
       "    }\n",
       "\n",
       "    .dataframe tbody tr th {\n",
       "        vertical-align: top;\n",
       "    }\n",
       "\n",
       "    .dataframe thead th {\n",
       "        text-align: right;\n",
       "    }\n",
       "</style>\n",
       "<table border=\"1\" class=\"dataframe\">\n",
       "  <thead>\n",
       "    <tr style=\"text-align: right;\">\n",
       "      <th></th>\n",
       "      <th>type</th>\n",
       "      <th>text</th>\n",
       "      <th>year_built</th>\n",
       "      <th>beds</th>\n",
       "      <th>baths</th>\n",
       "      <th>baths_full</th>\n",
       "      <th>baths_half</th>\n",
       "      <th>garage</th>\n",
       "      <th>lot_sqft</th>\n",
       "      <th>sqft</th>\n",
       "      <th>stories</th>\n",
       "      <th>lastSoldPrice</th>\n",
       "      <th>soldOn</th>\n",
       "      <th>listPrice</th>\n",
       "      <th>status</th>\n",
       "    </tr>\n",
       "  </thead>\n",
       "  <tbody>\n",
       "    <tr>\n",
       "      <th>0</th>\n",
       "      <td>single_family</td>\n",
       "      <td>Come check out this amazing, move-in ready, 5 ...</td>\n",
       "      <td>1951.0</td>\n",
       "      <td>4.0</td>\n",
       "      <td>4.0</td>\n",
       "      <td>3.0</td>\n",
       "      <td>1.0</td>\n",
       "      <td>1.0</td>\n",
       "      <td>5615.0</td>\n",
       "      <td>3000.0</td>\n",
       "      <td>2.0</td>\n",
       "      <td>NaN</td>\n",
       "      <td>NaN</td>\n",
       "      <td>750000.0</td>\n",
       "      <td>for_sale</td>\n",
       "    </tr>\n",
       "    <tr>\n",
       "      <th>1</th>\n",
       "      <td>single_family</td>\n",
       "      <td>Move in ready 2 story Mount Greenwood home on ...</td>\n",
       "      <td>1922.0</td>\n",
       "      <td>4.0</td>\n",
       "      <td>3.0</td>\n",
       "      <td>2.0</td>\n",
       "      <td>1.0</td>\n",
       "      <td>2.0</td>\n",
       "      <td>6566.0</td>\n",
       "      <td>2900.0</td>\n",
       "      <td>2.0</td>\n",
       "      <td>105000.0</td>\n",
       "      <td>1991-04-16</td>\n",
       "      <td>499900.0</td>\n",
       "      <td>for_sale</td>\n",
       "    </tr>\n",
       "    <tr>\n",
       "      <th>2</th>\n",
       "      <td>single_family</td>\n",
       "      <td>Investor Special MONEY MAKING Gem. This is you...</td>\n",
       "      <td>1947.0</td>\n",
       "      <td>4.0</td>\n",
       "      <td>2.0</td>\n",
       "      <td>2.0</td>\n",
       "      <td>NaN</td>\n",
       "      <td>3.0</td>\n",
       "      <td>5375.0</td>\n",
       "      <td>1170.0</td>\n",
       "      <td>2.0</td>\n",
       "      <td>60000.0</td>\n",
       "      <td>2019-10-28</td>\n",
       "      <td>325600.0</td>\n",
       "      <td>for_sale</td>\n",
       "    </tr>\n",
       "    <tr>\n",
       "      <th>3</th>\n",
       "      <td>single_family</td>\n",
       "      <td>Renovated Brick 1.5 story house with finished ...</td>\n",
       "      <td>1945.0</td>\n",
       "      <td>4.0</td>\n",
       "      <td>3.0</td>\n",
       "      <td>2.0</td>\n",
       "      <td>1.0</td>\n",
       "      <td>2.0</td>\n",
       "      <td>6138.0</td>\n",
       "      <td>2511.0</td>\n",
       "      <td>2.0</td>\n",
       "      <td>170000.0</td>\n",
       "      <td>1996-05-30</td>\n",
       "      <td>620000.0</td>\n",
       "      <td>for_sale</td>\n",
       "    </tr>\n",
       "    <tr>\n",
       "      <th>4</th>\n",
       "      <td>single_family</td>\n",
       "      <td>This almost 3000sq foot home was thoughtfully ...</td>\n",
       "      <td>1907.0</td>\n",
       "      <td>4.0</td>\n",
       "      <td>4.0</td>\n",
       "      <td>2.0</td>\n",
       "      <td>2.0</td>\n",
       "      <td>2.0</td>\n",
       "      <td>8476.0</td>\n",
       "      <td>2870.0</td>\n",
       "      <td>3.0</td>\n",
       "      <td>NaN</td>\n",
       "      <td>NaN</td>\n",
       "      <td>850000.0</td>\n",
       "      <td>for_sale</td>\n",
       "    </tr>\n",
       "  </tbody>\n",
       "</table>\n",
       "</div>"
      ],
      "text/plain": [
       "            type                                               text  \\\n",
       "0  single_family  Come check out this amazing, move-in ready, 5 ...   \n",
       "1  single_family  Move in ready 2 story Mount Greenwood home on ...   \n",
       "2  single_family  Investor Special MONEY MAKING Gem. This is you...   \n",
       "3  single_family  Renovated Brick 1.5 story house with finished ...   \n",
       "4  single_family  This almost 3000sq foot home was thoughtfully ...   \n",
       "\n",
       "   year_built  beds  baths  baths_full  baths_half  garage  lot_sqft    sqft  \\\n",
       "0      1951.0   4.0    4.0         3.0         1.0     1.0    5615.0  3000.0   \n",
       "1      1922.0   4.0    3.0         2.0         1.0     2.0    6566.0  2900.0   \n",
       "2      1947.0   4.0    2.0         2.0         NaN     3.0    5375.0  1170.0   \n",
       "3      1945.0   4.0    3.0         2.0         1.0     2.0    6138.0  2511.0   \n",
       "4      1907.0   4.0    4.0         2.0         2.0     2.0    8476.0  2870.0   \n",
       "\n",
       "   stories  lastSoldPrice      soldOn  listPrice    status  \n",
       "0      2.0            NaN         NaN   750000.0  for_sale  \n",
       "1      2.0       105000.0  1991-04-16   499900.0  for_sale  \n",
       "2      2.0        60000.0  2019-10-28   325600.0  for_sale  \n",
       "3      2.0       170000.0  1996-05-30   620000.0  for_sale  \n",
       "4      3.0            NaN         NaN   850000.0  for_sale  "
      ]
     },
     "execution_count": 9,
     "metadata": {},
     "output_type": "execute_result"
    }
   ],
   "source": [
    "import pandas as pd\n",
    "\n",
    "df = pd.read_csv('../data/real_estate_data_chicago.csv')\n",
    "\n",
    "df.head()"
   ]
  },
  {
   "cell_type": "code",
   "execution_count": 16,
   "id": "bf5c10f0",
   "metadata": {},
   "outputs": [
    {
     "data": {
      "text/plain": [
       "(2000, 15)"
      ]
     },
     "execution_count": 16,
     "metadata": {},
     "output_type": "execute_result"
    }
   ],
   "source": [
    "# Lets get a deeper insight into how much data we're working with\n",
    "\n",
    "df.shape"
   ]
  },
  {
   "cell_type": "code",
   "execution_count": 18,
   "id": "5dd5eebe",
   "metadata": {},
   "outputs": [
    {
     "data": {
      "text/plain": [
       "baths_half       1408\n",
       "lot_sqft         1008\n",
       "garage            718\n",
       "lastSoldPrice     585\n",
       "soldOn            585\n",
       "sqft              553\n",
       "stories           380\n",
       "year_built        210\n",
       "baths_full         63\n",
       "beds               60\n",
       "text                8\n",
       "listPrice           6\n",
       "baths               1\n",
       "type                0\n",
       "status              0\n",
       "dtype: int64"
      ]
     },
     "execution_count": 18,
     "metadata": {},
     "output_type": "execute_result"
    }
   ],
   "source": [
    "# 2000 rows of data, now lets see how many of these are N/A\n",
    "\n",
    "df.isna().sum().sort_values(ascending = False)"
   ]
  },
  {
   "cell_type": "code",
   "execution_count": null,
   "id": "35ed137c",
   "metadata": {},
   "outputs": [
    {
     "data": {
      "text/plain": [
       "baths_half\n",
       "False    2000\n",
       "Name: count, dtype: int64"
      ]
     },
     "execution_count": 20,
     "metadata": {},
     "output_type": "execute_result"
    }
   ],
   "source": [
    "# Lets try to clean as much of this data as possible, I don't like missing data. Lets\n",
    "# start with the highest missing amount. Lets assume no half bath data means that there is no half bath\n",
    "df['baths_half'] = df['baths_half'].fillna(0)\n",
    "df['baths_half'].isna().value_counts()"
   ]
  },
  {
   "cell_type": "code",
   "execution_count": 33,
   "id": "5ecba4af",
   "metadata": {},
   "outputs": [
    {
     "data": {
      "text/plain": [
       "lot_sqft\n",
       "False    2000\n",
       "Name: count, dtype: int64"
      ]
     },
     "execution_count": 33,
     "metadata": {},
     "output_type": "execute_result"
    }
   ],
   "source": [
    "# For lot sqft we dont want to keep null values at n/a or replace then with 0, so lets just impute them with the medium of the column\n",
    "df['lot_sqft'] = df['lot_sqft'].fillna(df['lot_sqft'].median())\n",
    "df['lot_sqft'].isna().value_counts()"
   ]
  },
  {
   "cell_type": "code",
   "execution_count": 34,
   "id": "e089f3fd",
   "metadata": {},
   "outputs": [
    {
     "name": "stdout",
     "output_type": "stream",
     "text": [
      "Garage Column Datatype: float64\n"
     ]
    },
    {
     "data": {
      "text/plain": [
       "garage\n",
       "False    2000\n",
       "Name: count, dtype: int64"
      ]
     },
     "execution_count": 34,
     "metadata": {},
     "output_type": "execute_result"
    }
   ],
   "source": [
    "# For garage lets take a closer look at the datatype to see what we should replace the null values with \n",
    "print(f\"Garage Column Datatype: {df['garage'].dtypes}\")\n",
    "\n",
    "# With this in mind we can now impute the missing values with 0 to indicate there is no garage\n",
    "df['garage'] = df['garage'].fillna(0)\n",
    "df['garage'].isna().value_counts()"
   ]
  },
  {
   "cell_type": "code",
   "execution_count": 38,
   "id": "bb763fd5",
   "metadata": {},
   "outputs": [
    {
     "name": "stdout",
     "output_type": "stream",
     "text": [
      "lastSoldPrice\n",
      "False    2000\n",
      "Name: count, dtype: int64\n",
      "soldOn\n",
      "False    2000\n",
      "Name: count, dtype: int64\n"
     ]
    }
   ],
   "source": [
    "# Next with sold price we can assume an absence of sold on date, means the property was never sold. \n",
    "# This gives us the information we need to fill missing rows. The values of sold on and last sale price\n",
    "# are identical in missing values so we can assume where there is missing one value, they are missing both.\n",
    "\n",
    "df['lastSoldPrice'] = df['lastSoldPrice'].fillna(0)\n",
    "df['soldOn'] = df['soldOn'].fillna(\"Not Sold\")\n",
    "\n",
    "print(df['lastSoldPrice'].isna().value_counts())\n",
    "print(df['soldOn'].isna().value_counts())"
   ]
  }
 ],
 "metadata": {
  "kernelspec": {
   "display_name": "base",
   "language": "python",
   "name": "python3"
  },
  "language_info": {
   "codemirror_mode": {
    "name": "ipython",
    "version": 3
   },
   "file_extension": ".py",
   "mimetype": "text/x-python",
   "name": "python",
   "nbconvert_exporter": "python",
   "pygments_lexer": "ipython3",
   "version": "3.12.7"
  }
 },
 "nbformat": 4,
 "nbformat_minor": 5
}
